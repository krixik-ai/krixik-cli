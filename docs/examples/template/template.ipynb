{
 "cells": [
  {
   "cell_type": "code",
   "execution_count": 1,
   "metadata": {},
   "outputs": [
    {
     "name": "stdout",
     "output_type": "stream",
     "text": [
      "SUCCESS: You are now authenticated.\n"
     ]
    }
   ],
   "source": [
    "import sys \n",
    "sys.path.append('..')\n",
    "from dotenv import load_dotenv\n",
    "import os\n",
    "load_dotenv()\n",
    "\n",
    "TEST_DUMMY_API_KEY = os.getenv('TEST_DUMMY_API_KEY_DEV')\n",
    "TEST_DUMMY_API_URL = os.getenv('TEST_DUMMY_API_URL_DEV')\n",
    "\n",
    "from krixik import krixik\n",
    "krixik.init(api_key = TEST_DUMMY_API_KEY, \n",
    "            api_url = TEST_DUMMY_API_URL)\n",
    "\n",
    "import json\n",
    "def json_print(data):\n",
    "    print(json.dumps(data, indent=2))\n",
    "    \n",
    "# define directory for input files \n",
    "input_directory = 'input_files'\n",
    "\n",
    "# define directory for output files\n",
    "output_directory = 'output_files'\n",
    "\n",
    "# define directory for pipeline_configs\n",
    "pipeline_configs_directory = 'pipeline_configs'\n",
    "\n",
    "%load_ext autoreload\n",
    "%autoreload 2 "
   ]
  },
  {
   "cell_type": "code",
   "execution_count": null,
   "metadata": {},
   "outputs": [],
   "source": [
    "from krixik.pipeline_builder.module import Module\n",
    "from krixik.pipeline_builder.pipeline import CreatePipeline\n",
    "\n",
    "# create modules for text (vector) search\n",
    "module_1 = Module(name=\"translate\")\n",
    "module_2 = Module(name=\"sentiment\")\n",
    "\n",
    "# create your custom pipeline\n",
    "custom = CreatePipeline(name='translate-review-sentiment-pipeline', \n",
    "                        module_chain=[module_1, module_2])\n",
    "\n",
    "# pass the custom object to the krixik operator (note you can also do this by passing its config - we'll do below)\n",
    "pipeline = krixik.load_pipeline(pipeline=custom)\n",
    "\n",
    "# text of review\n",
    "review_text = \"Para los trabajos que estoy haciendo me resultó muy bueno. En una hora carga la batería y dura más de 3 horas de trabajo continuo. Un golazo contar con una segunda batería. Cómodo y con buen torque. Estoy conforme.\"\n",
    "\n",
    "# save to file\n",
    "with open(\"review_data.txt\", \"w\") as text_file:\n",
    "    text_file.write(review_text)\n",
    "\n",
    "# define a test file in your input_files directory\n",
    "test_file = \"review_data.txt\"\n",
    "pipeline.test_input(local_file_path = input_directory + \"/\" + test_file)"
   ]
  }
 ],
 "metadata": {
  "kernelspec": {
   "display_name": "venv",
   "language": "python",
   "name": "python3"
  },
  "language_info": {
   "codemirror_mode": {
    "name": "ipython",
    "version": 3
   },
   "file_extension": ".py",
   "mimetype": "text/x-python",
   "name": "python",
   "nbconvert_exporter": "python",
   "pygments_lexer": "ipython3",
   "version": "3.10.13"
  }
 },
 "nbformat": 4,
 "nbformat_minor": 2
}
