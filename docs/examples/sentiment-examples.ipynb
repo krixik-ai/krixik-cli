{
 "cells": [
  {
   "cell_type": "markdown",
   "metadata": {},
   "source": [
    "# Example summary\n",
    "\n",
    "Description: analyze the sentiment of any product reviews, tweets, etc., in any language.\n",
    "\n",
    "Pipelines described: \n",
    "\n",
    "- sentiment\n",
    "\n",
    "- translation --> sentiment.\n"
   ]
  },
  {
   "cell_type": "markdown",
   "metadata": {},
   "source": [
    "## Code walkthrough"
   ]
  },
  {
   "cell_type": "markdown",
   "metadata": {},
   "source": [
    "### boilerplate setup"
   ]
  },
  {
   "cell_type": "code",
   "execution_count": 1,
   "metadata": {},
   "outputs": [
    {
     "name": "stdout",
     "output_type": "stream",
     "text": [
      "SUCCESS: You are now authenticated.\n"
     ]
    }
   ],
   "source": [
    "import sys \n",
    "sys.path.append('..')\n",
    "from dotenv import load_dotenv\n",
    "import os\n",
    "load_dotenv()\n",
    "\n",
    "TEST_DUMMY_API_KEY = os.getenv('TEST_DUMMY_API_KEY_DEV')\n",
    "TEST_DUMMY_API_URL = os.getenv('TEST_DUMMY_API_URL_DEV')\n",
    "\n",
    "from krixik import krixik\n",
    "krixik.init(api_key = TEST_DUMMY_API_KEY, \n",
    "            api_url = TEST_DUMMY_API_URL)\n",
    "\n",
    "import json\n",
    "def json_print(data):\n",
    "    print(json.dumps(data, indent=2))\n",
    "    \n",
    "# define directory for input files \n",
    "input_directory = 'input_files'\n",
    "\n",
    "# define directory for output files\n",
    "output_directory = 'output_files'\n",
    "\n",
    "# define directory for pipeline_configs\n",
    "pipeline_configs_directory = 'pipeline_configs'\n",
    "\n",
    "%load_ext autoreload\n",
    "%autoreload 2 "
   ]
  },
  {
   "cell_type": "markdown",
   "metadata": {},
   "source": [
    "### sentiment pipeline"
   ]
  },
  {
   "cell_type": "code",
   "execution_count": 8,
   "metadata": {},
   "outputs": [
    {
     "name": "stdout",
     "output_type": "stream",
     "text": [
      "SUCCESS: local file input_files/review_data.json passed pipeline input test passed\n"
     ]
    }
   ],
   "source": [
    "from krixik.pipeline_builder.module import Module\n",
    "from krixik.pipeline_builder.pipeline import CreatePipeline\n",
    "\n",
    "# create modules for text (vector) search\n",
    "module_1 = Module(name=\"sentiment\")\n",
    "\n",
    "# create your custom pipeline\n",
    "custom = CreatePipeline(name='simple-sentiment-pipeline', \n",
    "                        module_chain=[module_1])\n",
    "\n",
    "# pass the custom object to the krixik operator (note you can also do this by passing its config - we'll do below)\n",
    "pipeline = krixik.load_pipeline(pipeline=custom)\n",
    "\n",
    "# text of review - taken from first review of: https://www.amazon.com/Hunters-Dune-Universe-Book-18-ebook/dp/B001AY2I7I/?_encoding=UTF8&pd_rd_w=7wKHl&content-id=amzn1.sym.a6c319f7-de37-40ac-aac0-dba5df97534f&pf_rd_p=a6c319f7-de37-40ac-aac0-dba5df97534f&pf_rd_r=JE112WCZDH52EZHTAHE0&pd_rd_wg=vY7To&pd_rd_r=d92cd8b4-6b9b-4983-b1e2-9635cb7d0f17&ref_=pd_gw_reads_byrv2#customerReviews\n",
    "review_text = \"The plot is good and realistic, and it’s very entertaining and relaxing to read this book. The end is though accessible only to the readers of the Buttlerian Jihad.\"\n",
    "\n",
    "with open(input_directory + \"/\" + \"review_data.json\", \"w\") as outfile:\n",
    "    json.dump([{\"snippet\": review_text}], outfile)\n",
    "\n",
    "# define a test file in your input_files directory\n",
    "test_file = \"review_data.json\"\n",
    "pipeline.test_input(local_file_path = input_directory + \"/\" + test_file)"
   ]
  },
  {
   "cell_type": "code",
   "execution_count": 9,
   "metadata": {},
   "outputs": [
    {
     "name": "stdout",
     "output_type": "stream",
     "text": [
      "INFO: hydrated input modules: {'sentiment': {'model': 'distilbert-base-uncased-finetuned-sst-2-english', 'params': {}}}\n",
      "INFO: symbolic_directory_path was not set by user - setting to default of /etc\n",
      "INFO: file_name was not set by user - setting to random file name: krixik_generated_beenawuolu.json\n",
      "INFO: wait_for_process is set to True.\n",
      "INFO: file will expire and be removed from you account in 300 seconds, at Thu Apr 18 10:42:39 2024 UTC\n",
      "INFO: simple-sentiment-pipeline file process and input processing started...\n",
      "INFO: metadata can be updated using the .update api.\n",
      "INFO: This file's process_id is: 3207560e-8cea-c786-364e-56f170582373\n",
      "INFO: File process and processing status:\n",
      "SUCCESS: module 1 (of 1) - sentiment processing complete.\n",
      "SUCCESS: pipeline process complete.\n",
      "SUCCESS: process output downloaded\n"
     ]
    }
   ],
   "source": [
    "# process the file\n",
    "output = pipeline.process(local_file_path = input_directory + \"/\" + test_file,\n",
    "                          expire_time=60*5, \n",
    "                          local_save_directory=output_directory, \n",
    "                          wait_for_process=True,\n",
    "                          verbose=True)  "
   ]
  },
  {
   "cell_type": "code",
   "execution_count": 10,
   "metadata": {},
   "outputs": [
    {
     "data": {
      "text/plain": [
       "{'status_code': 200,\n",
       " 'pipeline': 'simple-sentiment-pipeline',\n",
       " 'request_id': '320fcb76-68fb-408b-9aed-c6f3e9e12d3d',\n",
       " 'file_id': 'ef47cacc-1ffd-452e-9e93-099e928e574b',\n",
       " 'message': 'SUCCESS - output fetched for file_id ef47cacc-1ffd-452e-9e93-099e928e574b.Output saved to location(s) listed in process_output_files.',\n",
       " 'warnings': [],\n",
       " 'process_output': [{'snippet': 'The plot is good and realistic, and it’s very entertaining and relaxing to read this book. The end is though accessible only to the readers of the Buttlerian Jihad.',\n",
       "   'positive': 1.0,\n",
       "   'negative': 0.0,\n",
       "   'neutral': 0.0}],\n",
       " 'process_output_files': ['output_files/ef47cacc-1ffd-452e-9e93-099e928e574b.json']}"
      ]
     },
     "execution_count": 10,
     "metadata": {},
     "output_type": "execute_result"
    }
   ],
   "source": [
    "output"
   ]
  },
  {
   "cell_type": "markdown",
   "metadata": {},
   "source": [
    "### translation --> sentiment"
   ]
  },
  {
   "cell_type": "code",
   "execution_count": 2,
   "metadata": {},
   "outputs": [
    {
     "name": "stdout",
     "output_type": "stream",
     "text": [
      "SUCCESS: local file input_files/review_data.json passed pipeline input test passed\n"
     ]
    }
   ],
   "source": [
    "from krixik.pipeline_builder.module import Module\n",
    "from krixik.pipeline_builder.pipeline import CreatePipeline\n",
    "\n",
    "# create modules for text (vector) search\n",
    "module_1 = Module(name=\"translate\")\n",
    "module_2 = Module(name=\"sentiment\")\n",
    "\n",
    "# create your custom pipeline\n",
    "custom = CreatePipeline(name='translate-review-sentiment-pipeline', \n",
    "                        module_chain=[module_1, module_2])\n",
    "\n",
    "# pass the custom object to the krixik operator (note you can also do this by passing its config - we'll do below)\n",
    "pipeline = krixik.load_pipeline(pipeline=custom)\n",
    "\n",
    "# text of review - taken from first review of:  https://articulo.mercadolibre.com.ar/MLA-1432580188-taladro-atornillador-percutor-2-baterias-gp-by-lusqtoff-_JM#polycard_client=homes-korribanSearchTodayPromotions&position=42&search_layout=grid&type=item&tracking_id=b6eefafa-515b-4ea5-8822-36d1e8c16f72&c_id=/home/today-promotions-recommendations/element&c_uid=fb69c84c-ad40-4f95-b394-7ca41a3d29fe\n",
    "review_text = \"Para los trabajos que estoy haciendo me resultó muy bueno. En una hora carga la batería y dura más de 3 horas de trabajo continuo. Un golazo contar con una segunda batería. Cómodo y con buen torque. Estoy conforme.\"\n",
    "\n",
    "with open(input_directory + \"/\" + \"review_data.json\", \"w\") as outfile:\n",
    "    json.dump([{\"snippet\": review_text}], outfile)\n",
    "\n",
    "# define a test file in your input_files directory\n",
    "test_file = \"review_data.json\"\n",
    "pipeline.test_input(local_file_path = input_directory + \"/\" + test_file)"
   ]
  },
  {
   "cell_type": "code",
   "execution_count": 3,
   "metadata": {},
   "outputs": [
    {
     "name": "stdout",
     "output_type": "stream",
     "text": [
      "INFO: hydrated input modules: {'translate': {'model': 'opus-mt-es-en', 'params': {}}, 'sentiment': {'model': 'distilbert-base-uncased-finetuned-sst-2-english', 'params': {}}}\n",
      "INFO: symbolic_directory_path was not set by user - setting to default of /etc\n",
      "INFO: file_name was not set by user - setting to random file name: krixik_generated_bdziwtfwau.json\n",
      "INFO: wait_for_process is set to True.\n",
      "INFO: file will expire and be removed from you account in 300 seconds, at Thu Apr 18 09:30:34 2024 UTC\n",
      "INFO: translate-review-sentiment-pipeline file process and input processing started...\n",
      "INFO: metadata can be updated using the .update api.\n",
      "INFO: This file's process_id is: 207abaaa-4a5c-643e-0541-e40b3c65f7f9\n",
      "INFO: File process and processing status:\n",
      "SUCCESS: module 1 (of 2) - translate processing complete.\n",
      "SUCCESS: module 2 (of 2) - sentiment processing complete.\n",
      "SUCCESS: pipeline process complete.\n",
      "SUCCESS: process output downloaded\n"
     ]
    }
   ],
   "source": [
    "# process the file\n",
    "output = pipeline.process(local_file_path = input_directory + \"/\" + test_file,\n",
    "                          modules={\"translate\": {\"model\": \"opus-mt-es-en\"}},\n",
    "                          expire_time=60*5, \n",
    "                          local_save_directory=output_directory, \n",
    "                          wait_for_process=True,\n",
    "                          verbose=True)  "
   ]
  },
  {
   "cell_type": "code",
   "execution_count": 6,
   "metadata": {},
   "outputs": [
    {
     "data": {
      "text/plain": [
       "[{'snippet': \"For the jobs I'm doing I turned out very good. In an hour load the batter and lasts more than 3 hours of continuous work. A stroke have a second batter. Cmodo and with good torque. I agree.\",\n",
       "  'positive': 0.999,\n",
       "  'negative': 0.001,\n",
       "  'neutral': 0.0}]"
      ]
     },
     "execution_count": 6,
     "metadata": {},
     "output_type": "execute_result"
    }
   ],
   "source": [
    "output[\"process_output\"]"
   ]
  }
 ],
 "metadata": {
  "kernelspec": {
   "display_name": "venv",
   "language": "python",
   "name": "python3"
  },
  "language_info": {
   "codemirror_mode": {
    "name": "ipython",
    "version": 3
   },
   "file_extension": ".py",
   "mimetype": "text/x-python",
   "name": "python",
   "nbconvert_exporter": "python",
   "pygments_lexer": "ipython3",
   "version": "3.10.13"
  }
 },
 "nbformat": 4,
 "nbformat_minor": 2
}
