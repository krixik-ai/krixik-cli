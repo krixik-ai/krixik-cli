{
 "cells": [
  {
   "cell_type": "code",
   "execution_count": 2,
   "metadata": {},
   "outputs": [
    {
     "name": "stdout",
     "output_type": "stream",
     "text": [
      "SUCCESS: You are now authenticated.\n"
     ]
    }
   ],
   "source": [
    "import sys \n",
    "sys.path.append('..')\n",
    "from dotenv import load_dotenv\n",
    "import os\n",
    "load_dotenv()\n",
    "\n",
    "TEST_DUMMY_API_KEY_DEV = os.getenv('TEST_DUMMY_API_KEY_DEV')\n",
    "TEST_DUMMY_API_URL_DEV = os.getenv('TEST_DUMMY_API_URL_DEV')\n",
    "\n",
    "from tests.krixik import text_files_path, audio_files_path, json_files_path, image_files_path\n",
    "\n",
    "from krixik import krixik\n",
    "krixik.init(api_key = TEST_DUMMY_API_KEY_DEV, \n",
    "            api_url = TEST_DUMMY_API_URL_DEV)\n",
    "\n",
    "%load_ext autoreload\n",
    "%autoreload 2 "
   ]
  },
  {
   "cell_type": "code",
   "execution_count": 4,
   "metadata": {},
   "outputs": [],
   "source": [
    "from krixik.pipeline_builder.module import Module\n",
    "from krixik.pipeline_builder.pipeline import CreatePipeline\n",
    "\n",
    "# create a few modules\n",
    "module_1 = Module(name='summarize')\n",
    "pipeline = CreatePipeline(name='summarize-pipeline-1', \n",
    "                               module_chain=[module_1])\n",
    "pipeline.save('pipeline_configs/summarize-pipeline-1.yaml')"
   ]
  },
  {
   "cell_type": "code",
   "execution_count": 5,
   "metadata": {},
   "outputs": [
    {
     "name": "stdout",
     "output_type": "stream",
     "text": [
      "INFO: hydrated input modules: {'summarize': {'model': 'bart-large-cnn', 'params': {}}}\n",
      "INFO: symbolic_directory_path was not set by user - setting to default of /etc\n",
      "INFO: file_name was not set by user - setting to random file name: krixik_generated_ozjamddyfl.json\n",
      "INFO: wait_for_process is set to True.\n",
      "INFO: file will expire and be removed from you account in 180 seconds, at Tue Apr  9 05:10:22 2024 UTC\n",
      "INFO: summarize-pipeline-1 file process and input processing started...\n",
      "INFO: metadata can be updated using the .update api.\n",
      "INFO: This file's process_id is: efbb18cd-02c0-58ac-0571-825962fe4e4a\n",
      "INFO: File process and processing status:\n",
      "SUCCESS: module 1 (of 1) - summarize processing complete.\n",
      "SUCCESS: pipeline process complete.\n",
      "SUCCESS: process output downloaded\n"
     ]
    }
   ],
   "source": [
    "my_pipeline = krixik.load_pipeline(config_path=\"pipeline_configs/summarize-pipeline-1.yaml\")\n",
    "test_file = json_files_path + \"sample_article.json\"\n",
    "\n",
    "output = my_pipeline.process(local_file_path = test_file,\n",
    "                             expire_time=180,\n",
    "                             modules={})  # purposefully placing modules={}, they are filled in as necessary, not needed "
   ]
  },
  {
   "cell_type": "code",
   "execution_count": 6,
   "metadata": {},
   "outputs": [
    {
     "data": {
      "text/plain": [
       "{'request_id': '8004bfce-0c43-4524-83c4-9d89bb17d108',\n",
       " 'file_id': 'c0c1be1b-e5f9-4f1d-b7de-951f9eec60a4',\n",
       " 'message': 'SUCCESS - output fetched for file_id c0c1be1b-e5f9-4f1d-b7de-951f9eec60a4.',\n",
       " 'warnings': [],\n",
       " 'process_output': [{'snippet': 'New York (CNN)When Liana Barrientos was 23 years old, she got married in Westchester County, New York.\\nA year later, she got married again in Westchester County, but to a different man and without divorcing her first husband.\\nOnly 18 days after that marriage, she got hitched yet again. Then, Barrientos declared \"I do\" five more times, sometimes only within two weeks of each other.\\nIn 2010, she married once more, this time in the Bronx. In an application for a marriage license, she stated it was her \"first and only\" marriage.\\nBarrientos, now 39, is facing two criminal counts of \"offering a false instrument for filing in the first degree,\" referring to her false statements on the\\n2010 marriage license application, according to court documents.\\nProsecutors said the marriages were part of an immigration scam.\\nOn Friday, she pleaded not guilty at State Supreme Court in the Bronx, according to her attorney, Christopher Wright, who declined to comment further.\\nAfter leaving court, Barrientos was arrested and charged with theft of service and criminal trespass for allegedly sneaking into the New York subway through an emergency exit, said Detective\\nAnnette Markowski, a police spokeswoman. In total, Barrientos has been married 10 times, with nine of her marriages occurring between 1999 and 2002.\\nAll occurred either in Westchester County, Long Island, New Jersey or the Bronx. She is believed to still be married to four men, and at one time, she was married to eight men at once, prosecutors say.\\nProsecutors said the immigration scam involved some of her husbands, who filed for permanent residence status shortly after the marriages.\\nAny divorces happened only after such filings were approved. It was unclear whether any of the men will be prosecuted.\\nThe case was referred to the Bronx District Attorney\\'s Office by Immigration and Customs Enforcement and the Department of Homeland Security\\'s\\nInvestigation Division. Seven of the men are from so-called \"red-flagged\" countries, including Egypt, Turkey, Georgia, Pakistan and Mali.\\nHer eighth husband, Rashid Rajput, was deported in 2006 to his native Pakistan after an investigation by the Joint Terrorism Task Force.\\nIf convicted, Barrientos faces up to four years in prison.  Her next court appearance is scheduled for May 18.\\n',\n",
       "   'summary': 'Liana Barrientos, 39, is charged with two counts of offering a false instrument for filing in the first degree. In total, she has been married 10 times, with nine of her marriages occurring between 1999 and 2002. If convicted, she faces up to four years in prison.'}]}"
      ]
     },
     "execution_count": 6,
     "metadata": {},
     "output_type": "execute_result"
    }
   ],
   "source": [
    "output"
   ]
  }
 ],
 "metadata": {
  "kernelspec": {
   "display_name": "venv",
   "language": "python",
   "name": "python3"
  },
  "language_info": {
   "codemirror_mode": {
    "name": "ipython",
    "version": 3
   },
   "file_extension": ".py",
   "mimetype": "text/x-python",
   "name": "python",
   "nbconvert_exporter": "python",
   "pygments_lexer": "ipython3",
   "version": "3.10.13"
  }
 },
 "nbformat": 4,
 "nbformat_minor": 2
}
