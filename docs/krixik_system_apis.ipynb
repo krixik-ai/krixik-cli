{
 "cells": [
  {
   "cell_type": "code",
   "execution_count": 1,
   "metadata": {},
   "outputs": [
    {
     "name": "stdout",
     "output_type": "stream",
     "text": [
      "SUCCESS: You are now authenticated.\n"
     ]
    }
   ],
   "source": [
    "#### REMOVE BEFORE PUSHING ####\n",
    "import sys \n",
    "sys.path.append('..')\n",
    "from dotenv import load_dotenv\n",
    "import os\n",
    "load_dotenv()\n",
    "\n",
    "TEST_DUMMY_API_KEY = os.getenv('TEST_DUMMY_API_KEY_DEV')\n",
    "TEST_DUMMY_API_URL = os.getenv('TEST_DUMMY_API_URL_DEV')\n",
    "\n",
    "from krixik import krixik\n",
    "krixik.init(api_key = TEST_DUMMY_API_KEY, \n",
    "            api_url = TEST_DUMMY_API_URL)\n",
    "\n",
    "import json\n",
    "def json_print(data):\n",
    "    print(json.dumps(data, indent=2))\n",
    "    \n",
    "# define directory for input files \n",
    "input_directory = 'input_files/'\n",
    "\n",
    "# define directory for output files\n",
    "output_directory = 'output_files'\n",
    "\n",
    "# define directory for pipeline_configs\n",
    "pipeline_configs_directory = 'pipeline_configs/'\n",
    "\n",
    "%load_ext autoreload\n",
    "%autoreload 2 \n",
    "#### REMOVE BEFORE PUSHING ####"
   ]
  },
  {
   "cell_type": "markdown",
   "metadata": {},
   "source": [
    "## krixik file system\n",
    "\n",
    "In this document we review core krixik system apis and arguments that can be used with any krixik pipelines.\n",
    "\n",
    "In what follows we assume you have initialized krixik with your personal secrets as shown below.\n",
    "\n",
    "```python\n",
    "# import krixik and initialize it with your personal secrets\n",
    "from krixik import krixik\n",
    "krixik.init(MY_API_KEY, MY_API_URL)\n",
    "```"
   ]
  },
  {
   "cell_type": "markdown",
   "metadata": {},
   "source": [
    "For the sake of simplicity we will employ the simple `json-to-txt` module."
   ]
  },
  {
   "cell_type": "markdown",
   "metadata": {},
   "source": [
    "A table of contents for this document is shown below.\n",
    "\n",
    "\n",
    "- [the `.process` method](#the-process-method)\n",
    "- [the `.process_status` method](#the-process_status-method)\n",
    "- [the `.list` method](#the-list-method)\n",
    "- [the `.update` method](#the-update-method)\n",
    "- [the `.delete` method](#the-delete-method)\n",
    "- [the `.keyword_search` method](#the-keyword-search-method)\n",
    "- [the `.vector_search` method](#the-vector-search-method)"
   ]
  },
  {
   "cell_type": "code",
   "execution_count": null,
   "metadata": {},
   "outputs": [],
   "source": []
  }
 ],
 "metadata": {
  "kernelspec": {
   "display_name": "venv",
   "language": "python",
   "name": "python3"
  },
  "language_info": {
   "codemirror_mode": {
    "name": "ipython",
    "version": 3
   },
   "file_extension": ".py",
   "mimetype": "text/x-python",
   "name": "python",
   "nbconvert_exporter": "python",
   "pygments_lexer": "ipython3",
   "version": "3.10.13"
  }
 },
 "nbformat": 4,
 "nbformat_minor": 2
}
