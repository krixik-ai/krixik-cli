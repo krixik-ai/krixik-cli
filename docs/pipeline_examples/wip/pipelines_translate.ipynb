{
 "cells": [
  {
   "cell_type": "code",
   "execution_count": 1,
   "metadata": {},
   "outputs": [
    {
     "name": "stdout",
     "output_type": "stream",
     "text": [
      "SUCCESS: You are now authenticated.\n"
     ]
    }
   ],
   "source": [
    "import sys \n",
    "sys.path.append('..')\n",
    "from dotenv import load_dotenv\n",
    "import os\n",
    "load_dotenv()\n",
    "\n",
    "TEST_DUMMY_API_KEY_DEV = os.getenv('TEST_DUMMY_API_KEY_DEV')\n",
    "TEST_DUMMY_API_URL_DEV = os.getenv('TEST_DUMMY_API_URL_DEV')\n",
    "\n",
    "from tests.krixik import text_files_path, audio_files_path, json_files_path, image_files_path\n",
    "\n",
    "from krixik import krixik\n",
    "krixik.init(api_key = TEST_DUMMY_API_KEY_DEV, \n",
    "            api_url = TEST_DUMMY_API_URL_DEV)\n",
    "\n",
    "\n",
    "import json\n",
    "def json_print(data):\n",
    "    print(json.dumps(data, indent=2))\n",
    "\n",
    "%load_ext autoreload\n",
    "%autoreload 2 "
   ]
  },
  {
   "cell_type": "markdown",
   "metadata": {},
   "source": [
    "# Pipeline configuration examples using translate"
   ]
  },
  {
   "cell_type": "markdown",
   "metadata": {},
   "source": [
    "A simple set of experiments with modular pipelines - translate is the base here.\n",
    "\n",
    "Default model used:\n",
    "\n",
    "```english --> spanish translation```\n",
    "\n",
    "We will use the small file whose contents are printed out below."
   ]
  },
  {
   "cell_type": "code",
   "execution_count": 7,
   "metadata": {},
   "outputs": [
    {
     "name": "stdout",
     "output_type": "stream",
     "text": [
      "[\n",
      "  {\n",
      "    \"snippet\": \"I love this movie and i would watch it again and again!\"\n",
      "  },\n",
      "  {\n",
      "    \"snippet\": \"Operating profit totaled EUR 9.4 mn , down from EUR 11.7 mn in 2004 .\"\n",
      "  }\n",
      "]\n"
     ]
    }
   ],
   "source": [
    "# import file from data/valid.json \n",
    "import json\n",
    "with open(json_files_path + 'valid.json') as f:\n",
    "    data = json.load(f)\n",
    "# a little trick to pretty print in jupyter notebook using json\n",
    "print(json.dumps(data, indent=2))"
   ]
  },
  {
   "cell_type": "markdown",
   "metadata": {},
   "source": [
    "## 1.  Original single module \n",
    "\n",
    "Simple pipeline - one module: translate.\n",
    "\n",
    "Our pipeline:\n",
    "\n",
    "```translate```"
   ]
  },
  {
   "cell_type": "code",
   "execution_count": 14,
   "metadata": {},
   "outputs": [],
   "source": [
    "from krixik.pipeline_builder.module import Module\n",
    "from krixik.pipeline_builder.pipeline import CreatePipeline\n",
    "\n",
    "# create a few modules\n",
    "module_1 = Module(name='translate')\n",
    "pipeline = CreatePipeline(name='translate-pipeline-1', \n",
    "                               module_chain=[module_1])\n",
    "pipeline.save('pipeline_configs/translate-pipeline-1.yaml')"
   ]
  },
  {
   "cell_type": "code",
   "execution_count": 15,
   "metadata": {},
   "outputs": [
    {
     "name": "stdout",
     "output_type": "stream",
     "text": [
      "INFO: symbolic_directory_path was not set by user - setting to default of /etc\n",
      "INFO: file_name was not set by user - setting to random file name: krixik_generated_lbdfxmqlro.json\n",
      "INFO: wait_for_process is set to True.\n",
      "INFO: file will expire and be removed from you account in 180 seconds, at Tue Apr  9 14:53:50 2024 UTC\n"
     ]
    },
    {
     "name": "stdout",
     "output_type": "stream",
     "text": [
      "INFO: translate-pipeline-1 file process and input processing started...\n",
      "INFO: metadata can be updated using the .update api.\n",
      "INFO: This file's process_id is: 867598c1-01d7-1f76-24c0-533588191051\n",
      "INFO: File process and processing status:\n",
      "SUCCESS: module 1 (of 1) - translate processing complete.\n",
      "SUCCESS: pipeline process complete.\n",
      "SUCCESS: process output downloaded\n"
     ]
    }
   ],
   "source": [
    "my_pipeline = krixik.load_pipeline(config_path=\"pipeline_configs/translate-pipeline-1.yaml\")\n",
    "test_file = json_files_path + \"valid.json\"\n",
    "\n",
    "output = my_pipeline.process(local_file_path = test_file,\n",
    "                             expire_time=180,\n",
    "                             modules={\"translate\":{\"model\":\"opus-mt-en-es\"}}) "
   ]
  },
  {
   "cell_type": "markdown",
   "metadata": {},
   "source": [
    "Note: the output contains both translated text only.  Each translated snippet is provided in the order they're given in the input."
   ]
  },
  {
   "cell_type": "code",
   "execution_count": 6,
   "metadata": {},
   "outputs": [
    {
     "name": "stdout",
     "output_type": "stream",
     "text": [
      "{\n",
      "  \"request_id\": \"319b4551-7895-445b-8cc6-df25b93354a3\",\n",
      "  \"file_id\": \"6c76280c-05c3-40c9-abd1-813723d91266\",\n",
      "  \"message\": \"SUCCESS - output fetched for file_id 6c76280c-05c3-40c9-abd1-813723d91266.\",\n",
      "  \"warnings\": [],\n",
      "  \"process_output\": [\n",
      "    {\n",
      "      \"translated_snippet\": \"Me encanta esta pelcula y la vea una y otra vez!\"\n",
      "    },\n",
      "    {\n",
      "      \"translated_snippet\": \"Los beneficios de explotacin ascendieron a 9,4 millones de euros , frente a 11,7 millones de euros en 2004 .\"\n",
      "    }\n",
      "  ]\n",
      "}\n"
     ]
    }
   ],
   "source": [
    "import json\n",
    "print(json.dumps(output, indent=2))"
   ]
  },
  {
   "cell_type": "code",
   "execution_count": 2,
   "metadata": {},
   "outputs": [],
   "source": [
    "# lets re-use this pretty print method i like it\n",
    "import json\n",
    "def json_print(data):\n",
    "    print(json.dumps(data, indent=2))"
   ]
  },
  {
   "cell_type": "markdown",
   "metadata": {},
   "source": [
    "## 2.  Add vector search\n",
    "\n",
    "Lets add two more modules to make the translations' text searchable.  The pipeline:\n",
    "\n",
    "```translate --> text-embedder --> vector-search```\n",
    "\n",
    "Remember: we're mamking the *translated text* searchable."
   ]
  },
  {
   "cell_type": "code",
   "execution_count": 3,
   "metadata": {},
   "outputs": [],
   "source": [
    "from krixik.pipeline_builder.module import Module\n",
    "from krixik.pipeline_builder.pipeline import CreatePipeline\n",
    "\n",
    "# create a few modules\n",
    "module_1 = Module(name=\"translate\")\n",
    "module_2 = Module(name=\"text-embedder\")\n",
    "module_3 = Module(name=\"vector-search\")\n",
    "pipeline = CreatePipeline(name='translate-pipeline-2', \n",
    "                               module_chain=[module_1, module_2, module_3])\n",
    "pipeline.save('pipeline_configs/translate-pipeline-2.yaml')"
   ]
  },
  {
   "cell_type": "code",
   "execution_count": 4,
   "metadata": {},
   "outputs": [
    {
     "name": "stdout",
     "output_type": "stream",
     "text": [
      "INFO: hydrated input modules: {'translate': {'model': 'opus-mt-en-es', 'params': {}}, 'text-embedder': {'model': 'multi-qa-MiniLM-L6-cos-v1', 'params': {'quantize': True}}, 'vector-search': {'model': 'faiss', 'params': {}}}\n",
      "INFO: symbolic_directory_path was not set by user - setting to default of /etc\n",
      "INFO: file_name was not set by user - setting to random file name: krixik_generated_khajjfnxvj.json\n",
      "INFO: wait_for_process is set to True.\n",
      "INFO: file will expire and be removed from you account in 1500 seconds, at Tue Apr  9 15:36:49 2024 UTC\n"
     ]
    },
    {
     "name": "stdout",
     "output_type": "stream",
     "text": [
      "INFO: translate-pipeline-2 file process and input processing started...\n",
      "INFO: metadata can be updated using the .update api.\n",
      "INFO: This file's process_id is: 09ab1de0-5eff-6885-c029-715078e72654\n",
      "INFO: File process and processing status:\n",
      "SUCCESS: module 1 (of 3) - translate processing complete.\n",
      "SUCCESS: module 2 (of 3) - text-embedder processing complete.\n",
      "SUCCESS: module 3 (of 3) - vector-search processing complete.\n",
      "SUCCESS: pipeline process complete.\n"
     ]
    }
   ],
   "source": [
    "my_pipeline = krixik.load_pipeline(config_path=\"pipeline_configs/translate-pipeline-2.yaml\")\n",
    "test_file = \"data/valid.json\"\n",
    "\n",
    "output = my_pipeline.process(local_file_path = test_file,\n",
    "                             expire_time=60*25,\n",
    "                             modules={\"translate\":{\"model\":\"opus-mt-en-es\"}})  # purposefully placing modules={}, they are filled in as necessary, not needed "
   ]
  },
  {
   "cell_type": "code",
   "execution_count": 5,
   "metadata": {},
   "outputs": [
    {
     "name": "stdout",
     "output_type": "stream",
     "text": [
      "{\n",
      "  \"file_id\": \"b54f7484-f502-4627-82c9-f6fc23c136dd\",\n",
      "  \"process_id\": \"cf940ef5-0205-b4cd-3d85-9f866f09628b\",\n",
      "  \"file_name\": \"krixik_generated_gfcaiycmyh.json\",\n",
      "  \"symbolic_directory_path\": \"/etc\",\n",
      "  \"file_tags\": null,\n",
      "  \"file_description\": null\n",
      "}\n"
     ]
    }
   ],
   "source": [
    "json_print(output)"
   ]
  },
  {
   "cell_type": "code",
   "execution_count": 6,
   "metadata": {},
   "outputs": [
    {
     "name": "stdout",
     "output_type": "stream",
     "text": [
      "{\n",
      "  \"status_code\": 200,\n",
      "  \"request_id\": \"5f694651-b2ff-4d31-add9-2e1267e06fd1\",\n",
      "  \"message\": \"Successfully queried 1 user file.\",\n",
      "  \"warnings\": [],\n",
      "  \"items\": [\n",
      "    {\n",
      "      \"file_id\": \"b54f7484-f502-4627-82c9-f6fc23c136dd\",\n",
      "      \"file_metadata\": {\n",
      "        \"file_name\": \"krixik_generated_gfcaiycmyh.json\",\n",
      "        \"symbolic_directory_path\": \"/etc\",\n",
      "        \"file_tags\": [],\n",
      "        \"num_vectors\": 2,\n",
      "        \"created_at\": \"2024-04-09 22:04:07\",\n",
      "        \"last_updated\": \"2024-04-09 22:04:07\"\n",
      "      },\n",
      "      \"search_results\": [\n",
      "        {\n",
      "          \"snippet\": \"Me encanta esta pelcula y la vea una y otra vez!\",\n",
      "          \"line_numbers\": [\n",
      "            1\n",
      "          ],\n",
      "          \"distance\": 0.287\n",
      "        },\n",
      "        {\n",
      "          \"snippet\": \"El beneficio de explotacin ascendi a 9,4 millones EUR, frente a 11,7 millones EUR en 2004.\",\n",
      "          \"line_numbers\": [\n",
      "            2\n",
      "          ],\n",
      "          \"distance\": 0.394\n",
      "        }\n",
      "      ]\n",
      "    }\n",
      "  ]\n",
      "}\n"
     ]
    }
   ],
   "source": [
    "output = my_pipeline.vector_search(query=\"Me encanta\", \n",
    "                                    symbolic_directory_paths=['/*'])\n",
    "\n",
    "json_print(output)"
   ]
  },
  {
   "cell_type": "markdown",
   "metadata": {},
   "source": [
    "# 3.  Add keyword search instead\n",
    "\n",
    "To add keyword search we need to use `json-to-txt` since the output `translate` is not a set of snippets (like it is vector search).\n",
    "\n",
    "So our pipeline will look like\n",
    "\n",
    "```translate --> json-to-txt --> keyword-search```"
   ]
  },
  {
   "cell_type": "code",
   "execution_count": 8,
   "metadata": {},
   "outputs": [],
   "source": [
    "from krixik.pipeline_builder.module import Module\n",
    "from krixik.pipeline_builder.pipeline import CreatePipeline\n",
    "\n",
    "# create a few modules\n",
    "module_1 = Module(name=\"translate\")\n",
    "module_2 = Module(name=\"json-to-txt\")\n",
    "module_3 = Module(name=\"keyword-search\")\n",
    "\n",
    "pipeline = CreatePipeline(name='translate-pipeline-3', \n",
    "                               module_chain=[module_1, module_2, module_3])\n",
    "pipeline.save('pipeline_configs/translate-pipeline-3.yaml')"
   ]
  },
  {
   "cell_type": "code",
   "execution_count": 2,
   "metadata": {},
   "outputs": [
    {
     "name": "stdout",
     "output_type": "stream",
     "text": [
      "INFO: hydrated input modules: {'translate': {'model': 'opus-mt-en-es', 'params': {}}, 'json-to-txt': {'model': 'base', 'params': {}}, 'keyword-search': {'model': 'base', 'params': {}}}\n",
      "INFO: symbolic_directory_path was not set by user - setting to default of /etc\n",
      "INFO: file_name was not set by user - setting to random file name: krixik_generated_njmlpltkuh.json\n",
      "INFO: wait_for_process is set to True.\n",
      "INFO: file will expire and be removed from you account in 300 seconds, at Tue Apr  9 15:04:38 2024 UTC\n"
     ]
    },
    {
     "name": "stdout",
     "output_type": "stream",
     "text": [
      "INFO: translate-pipeline-3 file process and input processing started...\n",
      "INFO: metadata can be updated using the .update api.\n",
      "INFO: This file's process_id is: 3543f974-73fe-a292-69da-7a8bf996d833\n",
      "INFO: File process and processing status:\n",
      "SUCCESS: module 1 (of 3) - translate processing complete.\n",
      "SUCCESS: module 2 (of 3) - json-to-txt processing complete.\n",
      "SUCCESS: module 3 (of 3) - keyword-search processing complete.\n",
      "SUCCESS: pipeline process complete.\n",
      "SUCCESS: process output downloaded\n"
     ]
    }
   ],
   "source": [
    "my_pipeline = krixik.load_pipeline(config_path=\"pipeline_configs/translate-pipeline-3.yaml\")\n",
    "test_file = \"data/valid.json\"\n",
    "\n",
    "output = my_pipeline.process(local_file_path = test_file,\n",
    "                             expire_time=60*5,\n",
    "                             modules={\"translate\":{\"model\":\"opus-mt-en-es\"}})  # purposefully placing modules={}, they are filled in as necessary, not needed "
   ]
  },
  {
   "cell_type": "code",
   "execution_count": 6,
   "metadata": {},
   "outputs": [
    {
     "name": "stdout",
     "output_type": "stream",
     "text": [
      "{\n",
      "  \"status_code\": 200,\n",
      "  \"request_id\": \"0cc84bea-bd71-4437-9c0c-48813577f3ff\",\n",
      "  \"message\": \"Successfully queried 1 user file.\",\n",
      "  \"warnings\": [],\n",
      "  \"items\": [\n",
      "    {\n",
      "      \"file_id\": \"2549b442-b5a5-47b1-8692-746c7bfa9478\",\n",
      "      \"file_metadata\": {\n",
      "        \"file_name\": \"krixik_generated_njmlpltkuh.json\",\n",
      "        \"symbolic_directory_path\": \"/etc\",\n",
      "        \"file_tags\": [],\n",
      "        \"num_lines\": 2,\n",
      "        \"created_at\": \"2024-04-09 21:59:40\",\n",
      "        \"last_updated\": \"2024-04-09 21:59:40\"\n",
      "      },\n",
      "      \"search_results\": [\n",
      "        {\n",
      "          \"keyword\": \"encanta\",\n",
      "          \"line_number\": 1,\n",
      "          \"keyword_number\": 2\n",
      "        },\n",
      "        {\n",
      "          \"keyword\": \"pelcula\",\n",
      "          \"line_number\": 1,\n",
      "          \"keyword_number\": 4\n",
      "        }\n",
      "      ]\n",
      "    }\n",
      "  ]\n",
      "}\n"
     ]
    }
   ],
   "source": [
    "output = my_pipeline.keyword_search(query=\"encanta pelcula\", \n",
    "                                    symbolic_directory_paths=['/*'])\n",
    "\n",
    "json_print(output)"
   ]
  },
  {
   "cell_type": "markdown",
   "metadata": {},
   "source": []
  }
 ],
 "metadata": {
  "kernelspec": {
   "display_name": "venv",
   "language": "python",
   "name": "python3"
  },
  "language_info": {
   "codemirror_mode": {
    "name": "ipython",
    "version": 3
   },
   "file_extension": ".py",
   "mimetype": "text/x-python",
   "name": "python",
   "nbconvert_exporter": "python",
   "pygments_lexer": "ipython3",
   "version": "3.10.13"
  }
 },
 "nbformat": 4,
 "nbformat_minor": 2
}
