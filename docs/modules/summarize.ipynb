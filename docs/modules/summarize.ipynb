{
 "cells": [
  {
   "cell_type": "markdown",
   "metadata": {},
   "source": [
    "## The `summarize` module\n",
    "\n",
    "This document reviews the `summarize` module - which takes as input a document and returns a summary of its (text) contents.\n",
    "\n",
    "This document includes an overview of custom pipeline setup, current model set, parameters, and `.process` usage for this module.\n",
    "\n",
    "To follow along with this demonstration be sure to initialize your krixik session with your api key and url as shown below. \n",
    "\n",
    "We illustrate loading these required secrets in via [python-dotenv](https://pypi.org/project/python-dotenv/), storing those secrets in a `.env` file.  This is always good practice for storing / loading secrets (e.g., doing so will reduce the chance you inadvertantly push secrets to a repo)."
   ]
  },
  {
   "cell_type": "code",
   "execution_count": 1,
   "metadata": {
    "tags": [
     "remove_convert"
    ]
   },
   "outputs": [],
   "source": [
    "import sys \n",
    "sys.path.append('../../')\n",
    "from docs.utilities.reset import reset_pipeline"
   ]
  },
  {
   "cell_type": "code",
   "execution_count": 2,
   "metadata": {
    "tags": [
     "remove_output"
    ]
   },
   "outputs": [
    {
     "name": "stdout",
     "output_type": "stream",
     "text": [
      "SUCCESS: You are now authenticated.\n"
     ]
    }
   ],
   "source": [
    "# load secrets from a .env file using python-dotenv\n",
    "from dotenv import load_dotenv\n",
    "import os\n",
    "load_dotenv(\"../.env\")\n",
    "MY_API_KEY = os.getenv('MY_API_KEY')\n",
    "MY_API_URL = os.getenv('MY_API_URL')\n",
    "\n",
    "# import krixik and initialize it with your personal secrets\n",
    "from krixik import krixik\n",
    "krixik.init(api_key = MY_API_KEY, \n",
    "            api_url = MY_API_URL)"
   ]
  },
  {
   "cell_type": "markdown",
   "metadata": {},
   "source": [
    "This small function prints dictionaries very nicely in notebooks / markdown."
   ]
  },
  {
   "cell_type": "code",
   "execution_count": 3,
   "metadata": {},
   "outputs": [],
   "source": [
    "# print dictionaries / json nicely in notebooks / markdown\n",
    "import json\n",
    "def json_print(data):\n",
    "    print(json.dumps(data, indent=2))"
   ]
  },
  {
   "cell_type": "markdown",
   "metadata": {},
   "source": [
    "A table of contents for the remainder of this document is shown below.\n",
    "\n",
    "- [pipeline setup](#pipeline-setup)\n",
    "- [required input format](#required-input-format)\n",
    "- [using the default model](#using-the-default-model)\n",
    "- [recursive summarization](#recursive-summarization)\n",
    "- [using a non-default model](#using-a-non-default-model)"
   ]
  },
  {
   "cell_type": "markdown",
   "metadata": {},
   "source": [
    "## Pipeline setup\n",
    "\n",
    "Below we setup a simple one module pipeline using the `summarize` module. "
   ]
  },
  {
   "cell_type": "code",
   "execution_count": 4,
   "metadata": {},
   "outputs": [],
   "source": [
    "# create a pipeline with a single module\n",
    "pipeline = krixik.create_pipeline(name=\"my-summarize-pipeline\",\n",
    "                                  module_chain=[\"summarize\"])"
   ]
  },
  {
   "cell_type": "markdown",
   "metadata": {},
   "source": [
    "The `summarize` module comes with a single model:\n",
    "\n",
    "- [bart-large-cnn](https://huggingface.co/facebook/bart-large-cnn) (default)\n",
    "- [text-summarization](https://huggingface.co/Falconsai/text_summarization)\n",
    "\n",
    "These available modeling options and parameters are stored in our custom pipeline's configuration (described further in LINK HERE).  We can examine this configuration as shown below."
   ]
  },
  {
   "cell_type": "code",
   "execution_count": 5,
   "metadata": {},
   "outputs": [
    {
     "name": "stdout",
     "output_type": "stream",
     "text": [
      "{\n",
      "  \"pipeline\": {\n",
      "    \"name\": \"my-summarize-pipeline\",\n",
      "    \"modules\": [\n",
      "      {\n",
      "        \"name\": \"summarize\",\n",
      "        \"models\": [\n",
      "          {\n",
      "            \"name\": \"bart-large-cnn\"\n",
      "          },\n",
      "          {\n",
      "            \"name\": \"text-summarization\"\n",
      "          }\n",
      "        ],\n",
      "        \"defaults\": {\n",
      "          \"model\": \"bart-large-cnn\"\n",
      "        },\n",
      "        \"input\": {\n",
      "          \"type\": \"text\",\n",
      "          \"permitted_extensions\": [\n",
      "            \".txt\",\n",
      "            \".pdf\",\n",
      "            \".docx\",\n",
      "            \".pptx\"\n",
      "          ]\n",
      "        },\n",
      "        \"output\": {\n",
      "          \"type\": \"text\"\n",
      "        }\n",
      "      }\n",
      "    ]\n",
      "  }\n",
      "}\n"
     ]
    }
   ],
   "source": [
    "# nicely print pipeline configuration\n",
    "json_print(pipeline.config)"
   ]
  },
  {
   "cell_type": "markdown",
   "metadata": {},
   "source": [
    "Here we can see the models and their associated parameters available for use.\n",
    "\n",
    "You can save this configuration to disk as well by executing\n",
    "\n",
    "\n",
    "```python\n",
    "pipeline.save(\"/valid/path/file.yml\")\n",
    "```\n",
    "\n",
    "You can instantiate a pipeline directly from its configuration using the [.load_pipeline method](LINK HERE)."
   ]
  },
  {
   "cell_type": "code",
   "execution_count": 6,
   "metadata": {
    "tags": [
     "remove_convert"
    ]
   },
   "outputs": [],
   "source": [
    "# delete all processed datapoints belonging to this pipeline\n",
    "reset_pipeline(pipeline)"
   ]
  },
  {
   "cell_type": "markdown",
   "metadata": {},
   "source": [
    "## Required input format\n",
    "\n",
    "The `keyword-db` module accepts `.txt`, `.pdf`, `.docx`, and `.pptx` file formats as input.  The latter three (`.pdf`, `.docx`, and `.pptx`) are first converted to `.txt` prior to processing.\n",
    "\n",
    "Let's look at an example of a small valid input - and then process it."
   ]
  },
  {
   "cell_type": "code",
   "execution_count": 7,
   "metadata": {},
   "outputs": [
    {
     "name": "stdout",
     "output_type": "stream",
     "text": [
      "It was a bright cold day in April, and the clocks were striking thirteen.\n",
      "Winston Smith, his chin nuzzled into his breast in an effort to escape the\n",
      "vile wind, slipped quickly through the glass doors of Victory Mansions,\n",
      "though not quickly enough to prevent a swirl of gritty dust from entering\n",
      "along with him.\n",
      "\n",
      "The hallway smelt of boiled cabbage and old rag mats. At one end of it a\n",
      "coloured poster, too large for indoor display, had been tacked to the wall.\n",
      "It depicted simply an enormous face, more than a metre wide: the face of a\n",
      "man of about forty-five, with a heavy black moustache and ruggedly handsome\n",
      "features. Winston made for the stairs. It was no use trying the lift. Even\n",
      "at the best of times it was seldom working, and at present the electric\n",
      "current was cut off during daylight hours. It was part of the economy drive\n",
      "in preparation for Hate Week. The flat was seven flights up, and Winston,\n",
      "who was thirty-nine and had a varicose ulcer above his right ankle, went\n",
      "slowly, resting several times on the way. On each landing, opposite the\n",
      "lift-shaft, the poster with the enormous face gazed from the wall. It was\n",
      "one of those pictures which are so contrived that the eyes follow you about\n",
      "when you move. BIG BROTHER IS WATCHING YOU, the caption beneath it ran.\n",
      "\n",
      "Inside the flat a fruity voice was reading out a list of figures which had\n",
      "something to do with the production of pig-iron. The voice came from an\n",
      "oblong metal plaque like a dulled mirror which formed part of the surface\n",
      "of the right-hand wall. Winston turned a switch and the voice sank\n",
      "somewhat, though the words were still distinguishable. The instrument\n",
      "(the telescreen, it was called) could be dimmed, but there was no way of\n",
      "shutting it off completely. He moved over to the window: a smallish, frail\n",
      "figure, the meagreness of his body merely emphasized by the blue overalls\n",
      "which were the uniform of the party. His hair was very fair, his face\n",
      "naturally sanguine, his skin roughened by coarse soap and blunt razor\n",
      "blades and the cold of the winter that had just ended.\n",
      "\n",
      "Outside, even through the shut window-pane, the world looked cold. Down in\n",
      "the street little eddies of wind were whirling dust and torn paper into\n",
      "spirals, and though the sun was shining and the sky a harsh blue, there\n",
      "seemed to be no colour in anything, except the posters that were plastered\n",
      "everywhere. The black-moustachio'd face gazed down from every commanding\n",
      "corner. There was one on the house-front immediately opposite. BIG BROTHER\n",
      "IS WATCHING YOU, the caption said, while the dark eyes looked deep into\n",
      "Winston's own. Down at street level another poster, torn at one corner,\n",
      "flapped fitfully in the wind, alternately covering and uncovering the\n",
      "single word INGSOC. In the far distance a helicopter skimmed down between\n",
      "the roofs, hovered for an instant like a bluebottle, and darted away again\n",
      "with a curving flight. It was the police patrol, snooping into people's\n",
      "windows. The patrols did not matter, however. Only the Thought Police\n",
      "mattered.\n",
      "\n",
      "Behind Winston's back the voice from the telescreen was still babbling away\n",
      "about pig-iron and the overfulfilment of the Ninth Three-Year Plan. The\n",
      "telescreen received and transmitted simultaneously. Any sound that Winston\n",
      "made, above the level of a very low whisper, would be picked up by it,\n",
      "moreover, so long as he remained within the field of vision which the metal\n",
      "plaque commanded, he could be seen as well as heard. There was of course\n",
      "no way of knowing whether you were being watched at any given moment. How\n",
      "often, or on what system, the Thought Police plugged in on any individual\n",
      "wire was guesswork. It was even conceivable that they watched everybody all\n",
      "the time. But at any rate they could plug in your wire whenever they wanted\n",
      "to. You had to live--did live, from habit that became instinct--in the\n",
      "assumption that every sound you made was overheard, and, except in\n",
      "darkness, every movement scrutinized.\n",
      "\n",
      "Winston kept his back turned to the telescreen. It was safer; though, as he\n",
      "well knew, even a back can be revealing. A kilometre away the Ministry of\n",
      "Truth, his place of work, towered vast and white above the grimy landscape.\n",
      "This, he thought with a sort of vague distaste--this was London, chief\n",
      "city of Airstrip One, itself the third most populous of the provinces of\n",
      "Oceania. He tried to squeeze out some childhood memory that should tell him\n",
      "whether London had always been quite like this. Were there always these\n",
      "vistas of rotting nineteenth-century houses, their sides shored up with\n",
      "baulks of timber, their windows patched with cardboard and their roofs\n",
      "with corrugated iron, their crazy garden walls sagging in all directions?\n",
      "And the bombed sites where the plaster dust swirled in the air and the\n",
      "willow-herb straggled over the heaps of rubble; and the places where the\n",
      "bombs had cleared a larger patch and there had sprung up sordid colonies\n",
      "of wooden dwellings like chicken-houses? But it was no use, he could not\n",
      "remember: nothing remained of his childhood except a series of bright-lit\n",
      "tableaux occurring against no background and mostly unintelligible.\n",
      "\n",
      "The Ministry of Truth--Minitrue, in Newspeak [Newspeak was the official\n",
      "language of Oceania. For an account of its structure and etymology see\n",
      "Appendix.]--was startlingly different from any other object in sight. It\n",
      "was an enormous pyramidal structure of glittering white concrete, soaring\n",
      "up, terrace after terrace, 300 metres into the air. From where Winston\n",
      "stood it was just possible to read, picked out on its white face in\n",
      "elegant lettering, the three slogans of the Party:\n",
      "\n",
      "\n",
      "  WAR IS PEACE\n",
      "  FREEDOM IS SLAVERY\n",
      "  IGNORANCE IS STRENGTH\n"
     ]
    }
   ],
   "source": [
    "# examine contents of a valid test input file\n",
    "test_file = \"../input_data/1984_short.txt\"\n",
    "with open(test_file, \"r\") as file:\n",
    "    print(file.read())"
   ]
  },
  {
   "cell_type": "markdown",
   "metadata": {},
   "source": [
    "## Using the default model"
   ]
  },
  {
   "cell_type": "markdown",
   "metadata": {},
   "source": [
    "Now let's process it using our default model - [bart-large-cnn](https://huggingface.co/facebook/bart-large-cnn).  Since we are using the default model we need not input the optional `modules` argument into `.process`."
   ]
  },
  {
   "cell_type": "code",
   "execution_count": 8,
   "metadata": {},
   "outputs": [],
   "source": [
    "# define path to an input file from examples directory\n",
    "test_file = \"../input_data/1984_short.txt\"\n",
    "\n",
    "# process a file through the pipeline\n",
    "process_output = pipeline.process(local_file_path = test_file,\n",
    "                                  local_save_directory=\".\", # save output in current directory\n",
    "                                  expire_time=60*5,         # set all process data to expire in 5 minutes\n",
    "                                  wait_for_process=True,    # wait for process to complete before regaining ide\n",
    "                                  verbose=False)            # set verbosity to False"
   ]
  },
  {
   "cell_type": "markdown",
   "metadata": {},
   "source": [
    "The output of this process is printed below.  Because the output of this particular module-model pair is a json, the process output is provided in this object is as well.  The file itself has been returned to the address noted in the `process_output_files` key.  The `file_id` of the processed file is used as a filename prefix for both output files."
   ]
  },
  {
   "cell_type": "code",
   "execution_count": 9,
   "metadata": {},
   "outputs": [
    {
     "name": "stdout",
     "output_type": "stream",
     "text": [
      "{\n",
      "  \"status_code\": 200,\n",
      "  \"pipeline\": \"my-summarize-pipeline\",\n",
      "  \"request_id\": \"c3f61dfa-8e10-45d5-9c69-174d520e6970\",\n",
      "  \"file_id\": \"72387b02-5ce5-4711-8358-6770f54dccd1\",\n",
      "  \"message\": \"SUCCESS - output fetched for file_id 72387b02-5ce5-4711-8358-6770f54dccd1.Output saved to location(s) listed in process_output_files.\",\n",
      "  \"warnings\": [],\n",
      "  \"process_output\": null,\n",
      "  \"process_output_files\": [\n",
      "    \"./72387b02-5ce5-4711-8358-6770f54dccd1.txt\"\n",
      "  ]\n",
      "}\n"
     ]
    }
   ],
   "source": [
    "# nicely print the output of this process\n",
    "json_print(process_output)"
   ]
  },
  {
   "cell_type": "markdown",
   "metadata": {},
   "source": [
    "We load in the text file output from `process_output_files` below. "
   ]
  },
  {
   "cell_type": "code",
   "execution_count": 10,
   "metadata": {},
   "outputs": [
    {
     "name": "stdout",
     "output_type": "stream",
     "text": [
      "Winston Smith walked through the glass doors of Victory Mansions. The hallway\n",
      "smelt of boiled cabbage and old rag mats. At one end of\n",
      "it it acoloured poster, too large for indoor display, had been tacked\n",
      "to the wall. It depicted simply an enormous face, more than a\n",
      "metre wide. Winston made for the stairs.\n",
      "\n",
      "Inside the flat a fruity voice was reading out a list of\n",
      "figures which had something to do with pig-iron. Winston turned a switch\n",
      "and the voice sank somewhat, though the words were still distinguishable. He\n",
      "moved over to the window: a smallish, frail figure, the meagreness of\n",
      "his body merely emphasized by the blue overalls which were the uniform\n",
      "of the party.\n",
      "\n",
      "Winston kept his back turned to the telescreen. It was safer; though,\n",
      "as he well knew, even a back can be revealing. A kilometre\n",
      "away the Ministry of Truth, his place of work, towered vast and\n",
      "white above the grimy landscape.\n",
      "\n",
      "The Ministry of Truth --Minitrue, in Newspeak -- was startlingly different from\n",
      "any other object in sight. It was an enormous pyramidal structure of\n",
      "glittering white concrete, soaring 300 metres into the air. From where Winston\n",
      "stood it was just possible to read, picked out on its white\n",
      "face, the three slogans of the Party.\n"
     ]
    }
   ],
   "source": [
    "# load in process output from file\n",
    "with open(process_output['process_output_files'][0], \"r\") as file:\n",
    "    print(file.read())  "
   ]
  },
  {
   "cell_type": "markdown",
   "metadata": {},
   "source": [
    "We have just summarized a test input of around 5500 characters into a summary of less than half that length.\n",
    "\n",
    "But what if this is not short enough for our needs?\n",
    "\n",
    "One of the most practical ways to achieve a shorter - and more absract but still representative - summary is to apply a summarization *recursively*. \n",
    "\n",
    "That is, we feed the summary created above through the summarizer again - producing a shorter summary.\n",
    "\n",
    "We do this next."
   ]
  },
  {
   "cell_type": "markdown",
   "metadata": {},
   "source": [
    "## Recursive summarization"
   ]
  },
  {
   "cell_type": "markdown",
   "metadata": {},
   "source": [
    "To produce a shorter summary of our original text we feed the first summarization made above into our summarizer.\n",
    "\n",
    "This involves executing `.process` on our pipeline in precisely the same manner we saw above.  The only difference is the file we feed into it.  Now we will feed the output summary we just created."
   ]
  },
  {
   "cell_type": "code",
   "execution_count": 11,
   "metadata": {},
   "outputs": [],
   "source": [
    "# assign the summary above to a variable for reference\n",
    "first_summary = process_output['process_output_files'][0]\n",
    "\n",
    "# process a file through the pipeline\n",
    "process_output = pipeline.process(local_file_path = first_summary,\n",
    "                                  local_save_directory=\".\", # save output in current directory\n",
    "                                  expire_time=60*5,         # set all process data to expire in 5 minutes\n",
    "                                  wait_for_process=True,    # wait for process to complete before regaining ide\n",
    "                                  verbose=False)            # set verbosity to False"
   ]
  },
  {
   "cell_type": "markdown",
   "metadata": {},
   "source": [
    "Once `.process` completes we receive our shorter summary as an output file just as when we performed summarization the first time above.\n",
    "\n",
    "Let's examine the new shorter summary file."
   ]
  },
  {
   "cell_type": "code",
   "execution_count": 12,
   "metadata": {},
   "outputs": [
    {
     "name": "stdout",
     "output_type": "stream",
     "text": [
      "Winston Smith walked through the glass doors of Victory Mansions. The hallway\n",
      "smelled of boiled cabbage and old rag mats. At one end of\n",
      "the hallway an acoloured poster, too large for indoor display, had been\n",
      "tacked to the wall. It depicted simply an enormous face, more than\n",
      "a metre wide.\n",
      "\n",
      "Winston kept his back turned to the telescreen. It was safer; though,\n",
      "as he well knew, even a back can be revealing. A kilometre\n",
      "away the Ministry of Truth, his place of work, towered vast and\n",
      "white above the grimy landscape.\n"
     ]
    }
   ],
   "source": [
    "# load in process output from file\n",
    "with open(process_output['process_output_files'][0], \"r\") as file:\n",
    "    print(file.read())  "
   ]
  },
  {
   "cell_type": "markdown",
   "metadata": {},
   "source": [
    "This is an even shorter, more abstract, summary of the original input text.\n",
    "\n",
    "Lets recurse one more time, achieving an even shorter summary of our original text.\n",
    "\n",
    "Again nothing will change about how we use `.process` - we only point `local_file_path` to the output of our second summarization."
   ]
  },
  {
   "cell_type": "code",
   "execution_count": 13,
   "metadata": {},
   "outputs": [],
   "source": [
    "# assign the summary above to a variable for reference\n",
    "second_summary = process_output['process_output_files'][0]\n",
    "\n",
    "# process a file through the pipeline\n",
    "process_output = pipeline.process(local_file_path = second_summary,\n",
    "                                  local_save_directory=\".\", # save output in current directory\n",
    "                                  expire_time=60*5,         # set all process data to expire in 5 minutes\n",
    "                                  wait_for_process=True,    # wait for process to complete before regaining ide\n",
    "                                  verbose=False)            # set verbosity to False"
   ]
  },
  {
   "cell_type": "markdown",
   "metadata": {},
   "source": [
    "And we can view the now shorter summary below."
   ]
  },
  {
   "cell_type": "code",
   "execution_count": 14,
   "metadata": {},
   "outputs": [
    {
     "name": "stdout",
     "output_type": "stream",
     "text": [
      "Winston Smith walked through the glass doors of Victory Mansions. The hallway\n",
      "smelled of boiled cabbage and old rag mats. A kilometre away the\n",
      "Ministry of Truth, his place of work, towered vast.\n"
     ]
    }
   ],
   "source": [
    "# load in process output from file\n",
    "with open(process_output['process_output_files'][0], \"r\") as file:\n",
    "    print(file.read())  "
   ]
  },
  {
   "cell_type": "markdown",
   "metadata": {},
   "source": [
    "And indeed this is very terse but representative summary of our original text."
   ]
  },
  {
   "cell_type": "markdown",
   "metadata": {},
   "source": [
    "If we wanted - we could reproduce this result (of summarizing a document recursively three times) by building a new pipeline that contained three `summarize` modules in succession.\n",
    "\n",
    "We explore just such an example in a [recursive summarization pipeline example](examples/summarize/recursive_summarize.md)."
   ]
  },
  {
   "cell_type": "markdown",
   "metadata": {},
   "source": [
    "## Using a non-default model"
   ]
  },
  {
   "cell_type": "markdown",
   "metadata": {},
   "source": [
    "To use a non-default model we simply define it explicitly in the `modules` input to `.process`.\n",
    "\n",
    "To use the [text-summarization](https://huggingface.co/Falconsai/text_summarization) model we pass it explicitly as \n",
    "\n",
    "```\n",
    "modules = {\n",
    "    \"summarize\": {\n",
    "        \"model\": \"text-summarization\n",
    "    }\n",
    "}\n",
    "```\n",
    "\n",
    "to `.process`."
   ]
  },
  {
   "cell_type": "code",
   "execution_count": 15,
   "metadata": {},
   "outputs": [],
   "source": [
    "# define path to an input file from examples directory\n",
    "test_file = \"../input_data/1984_short.txt\"\n",
    "\n",
    "# process a file through the pipeline\n",
    "process_output = pipeline.process(local_file_path = test_file,\n",
    "                                  local_save_directory=\".\", # save output in current directory\n",
    "                                  expire_time=60*5,         # set all process data to expire in 5 minutes\n",
    "                                  wait_for_process=True,    # wait for process to complete before regaining ide\n",
    "                                  verbose=False,            # set verbosity to False\n",
    "                                  modules = {\n",
    "                                    \"summarize\": {\n",
    "                                        \"model\": \"text-summarization\"\n",
    "                                    }\n",
    "                                })"
   ]
  },
  {
   "cell_type": "markdown",
   "metadata": {},
   "source": [
    "And we can view the summary by loading in the output file.  The offset punctuation seen in this summary is an artifact of the model, as seen in the [model card](https://huggingface.co/Falconsai/text_summarization) on huggingface."
   ]
  },
  {
   "cell_type": "code",
   "execution_count": 16,
   "metadata": {},
   "outputs": [
    {
     "name": "stdout",
     "output_type": "stream",
     "text": [
      "Winston Smith, his chin nuzzled into his breast in an effort to\n",
      "escape the vile wind, slipped quickly through the glass doors of Victory\n",
      "Mansions . At one end of it a coloured poster, too large\n",
      "for indoor display, had been tacked to the wall . It was\n",
      "part of the economy drive in preparation for Hate Week . The\n",
      "flat was seven flights up, and Winston went slowly, resting several times\n",
      "on the way .\n",
      "\n",
      "Winston turned a switch and the voice sank somewhat, though the words\n",
      "were still distinguishable . The instrument (the telescreen, it was called) could\n",
      "be dimmed, but there was no way of shutting it off completely\n",
      ". He moved over to the window: a smallish, frail figure, the\n",
      "meagreness of his body merely emphasized by the blue overalls which were\n",
      "the uniform of the party . Outside, even through the shut window-pane,\n",
      "the world looked cold .\n",
      "\n",
      "There was no way of knowing whether you were being watched at\n",
      "any given moment . How often, or on what system, the Thought\n",
      "Police plugged in on any individual wire was guesswork . But at\n",
      "any rate they could plug in your wire whenever they wanted to\n",
      ". The Ministry of Truth towered vast and white above the grimy\n",
      "landscape .\n",
      "\n",
      "The Ministry of Truth--Minitrue, in Newspeak, was the official language of Oceania\n",
      ". It was an enormous pyramidal structure of glittering white concrete, soaring\n",
      "up, terrace after terrace, 300 metres into the air . From where\n",
      "Winston stood it was just possible to read, picked out on its\n",
      "white face in elegant lettering .\n"
     ]
    }
   ],
   "source": [
    "# load in process output from file\n",
    "with open(process_output['process_output_files'][0], \"r\") as file:\n",
    "    print(file.read())  "
   ]
  },
  {
   "cell_type": "markdown",
   "metadata": {},
   "source": []
  }
 ],
 "metadata": {
  "kernelspec": {
   "display_name": "venv",
   "language": "python",
   "name": "python3"
  },
  "language_info": {
   "codemirror_mode": {
    "name": "ipython",
    "version": 3
   },
   "file_extension": ".py",
   "mimetype": "text/x-python",
   "name": "python",
   "nbconvert_exporter": "python",
   "pygments_lexer": "ipython3",
   "version": "3.10.13"
  }
 },
 "nbformat": 4,
 "nbformat_minor": 2
}
