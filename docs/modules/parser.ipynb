{
 "cells": [
  {
   "cell_type": "markdown",
   "metadata": {},
   "source": [
    "# parser module\n",
    "\n",
    "A **parser** is a pre-processing tool typically used in conjunction with vector search.\n",
    "\n",
    "It transforms an input text into many shorter \"chunks\" of text that are suitable for text embedding, and thus for vector/semantic search.  The kind of parsing used typically depends on the assumed (or guessed) search pattern used at search time (more on this below).\n",
    "\n",
    "There are several methods for parsing, for example\n",
    "\n",
    "- **sentences**: an input text is split into its constituient sentences. \n",
    "\n",
    "- **fixed chunks**: an input text is split into potentially overlapping fixed sized chunks.  The size of each chunk is defined ahead of time, as is the size of the (potential) overlap between each chunk.\n",
    "\n",
    "The choice of parsing method is ideally determined by how an end user might search a text, and what they expect to recover. \n",
    "\n",
    "For example, if for a particular search application one expects a user to query with 5-7 words, a fixed chunk size parsing \n",
    "\n",
    "Depending on how it is configured, a parser might split a document into sentences divided by periods or simply into windows of X consecutive words/tokens that may or may not overlap with each other."
   ]
  },
  {
   "cell_type": "code",
   "execution_count": null,
   "metadata": {},
   "outputs": [],
   "source": []
  }
 ],
 "metadata": {
  "language_info": {
   "name": "python"
  }
 },
 "nbformat": 4,
 "nbformat_minor": 2
}
