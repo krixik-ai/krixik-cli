{
 "cells": [
  {
   "cell_type": "markdown",
   "metadata": {},
   "source": [
    "# Example summary\n",
    "\n",
    "- pipeline: translation --> sentiment \n",
    "\n",
    "- example applications: sentiment of non-english product reviews and tweets"
   ]
  },
  {
   "cell_type": "markdown",
   "metadata": {},
   "source": [
    "## Code walkthrough"
   ]
  },
  {
   "cell_type": "code",
   "execution_count": 1,
   "metadata": {},
   "outputs": [
    {
     "name": "stdout",
     "output_type": "stream",
     "text": [
      "SUCCESS: You are now authenticated.\n"
     ]
    }
   ],
   "source": [
    "import sys \n",
    "sys.path.append('..')\n",
    "from dotenv import load_dotenv\n",
    "import os\n",
    "load_dotenv()\n",
    "\n",
    "TEST_DUMMY_API_KEY = os.getenv('TEST_DUMMY_API_KEY_DEV')\n",
    "TEST_DUMMY_API_URL = os.getenv('TEST_DUMMY_API_URL_DEV')\n",
    "\n",
    "from krixik import krixik\n",
    "krixik.init(api_key = TEST_DUMMY_API_KEY, \n",
    "            api_url = TEST_DUMMY_API_URL)\n",
    "\n",
    "import json\n",
    "def json_print(data):\n",
    "    print(json.dumps(data, indent=2))\n",
    "    \n",
    "# define directory for input files \n",
    "input_directory = 'input_files'\n",
    "\n",
    "# define directory for output files\n",
    "output_directory = 'output_files'\n",
    "\n",
    "# define directory for pipeline_configs\n",
    "pipeline_configs_directory = 'pipeline_configs'\n",
    "\n",
    "%load_ext autoreload\n",
    "%autoreload 2 "
   ]
  },
  {
   "cell_type": "code",
   "execution_count": 2,
   "metadata": {},
   "outputs": [
    {
     "name": "stdout",
     "output_type": "stream",
     "text": [
      "SUCCESS: local file input_files/open_sign.jpeg passed pipeline input test passed\n"
     ]
    }
   ],
   "source": [
    "from krixik.pipeline_builder.module import Module\n",
    "from krixik.pipeline_builder.pipeline import CreatePipeline\n",
    "\n",
    "# create modules for text (vector) search\n",
    "module_1 = Module(name=\"ocr\")\n",
    "\n",
    "# create your custom pipeline\n",
    "custom = CreatePipeline(name='ocr-pipeline', \n",
    "                        module_chain=[module_1])\n",
    "\n",
    "# pass the custom object to the krixik operator (note you can also do this by passing its config - we'll do below)\n",
    "pipeline = krixik.load_pipeline(pipeline=custom)\n",
    "\n",
    "# define a test file in your input_files directory\n",
    "test_file = \"open_sign.jpeg\"\n",
    "pipeline.test_input(local_file_path = input_directory + \"/\" + test_file)"
   ]
  },
  {
   "cell_type": "code",
   "execution_count": 3,
   "metadata": {},
   "outputs": [
    {
     "name": "stdout",
     "output_type": "stream",
     "text": [
      "INFO: hydrated input modules: {'ocr': {'model': 'tesseract-en', 'params': {}}}\n",
      "INFO: symbolic_directory_path was not set by user - setting to default of /etc\n",
      "INFO: file_name was not set by user - setting to random file name: krixik_generated_dxjgnyvjlx.jpeg\n",
      "INFO: wait_for_process is set to True.\n",
      "INFO: file will expire and be removed from you account in 300 seconds, at Thu Apr 18 13:36:41 2024 UTC\n",
      "INFO: ocr-pipeline file process and input processing started...\n",
      "INFO: metadata can be updated using the .update api.\n",
      "INFO: This file's process_id is: 41ba67c7-cfd3-cabc-b3b8-9a1bcdcd1be0\n",
      "INFO: File process and processing status:\n",
      "SUCCESS: module 1 (of 1) - ocr processing complete.\n",
      "SUCCESS: pipeline process complete.\n",
      "SUCCESS: process output downloaded\n"
     ]
    }
   ],
   "source": [
    "# process the file\n",
    "output = pipeline.process(local_file_path = input_directory + \"/\" + test_file,\n",
    "                          expire_time=60*5, \n",
    "                          local_save_directory=output_directory, \n",
    "                          wait_for_process=True,\n",
    "                          verbose=True)  "
   ]
  },
  {
   "cell_type": "code",
   "execution_count": 4,
   "metadata": {},
   "outputs": [
    {
     "data": {
      "text/plain": [
       "{'status_code': 200,\n",
       " 'pipeline': 'ocr-pipeline',\n",
       " 'request_id': 'd99947a2-cf90-49e3-973e-3a6102366e69',\n",
       " 'file_id': 'd7e39119-ef6c-42b1-8eca-7fbcc59b414a',\n",
       " 'message': 'SUCCESS - output fetched for file_id d7e39119-ef6c-42b1-8eca-7fbcc59b414a.Output saved to location(s) listed in process_output_files.',\n",
       " 'warnings': [],\n",
       " 'process_output': {'text': '', 'detections': []},\n",
       " 'process_output_files': ['output_files/d7e39119-ef6c-42b1-8eca-7fbcc59b414a.json']}"
      ]
     },
     "execution_count": 4,
     "metadata": {},
     "output_type": "execute_result"
    }
   ],
   "source": [
    "output"
   ]
  },
  {
   "cell_type": "code",
   "execution_count": null,
   "metadata": {},
   "outputs": [],
   "source": []
  },
  {
   "cell_type": "code",
   "execution_count": null,
   "metadata": {},
   "outputs": [],
   "source": []
  },
  {
   "cell_type": "code",
   "execution_count": null,
   "metadata": {},
   "outputs": [],
   "source": [
    "from krixik.pipeline_builder.module import Module\n",
    "from krixik.pipeline_builder.pipeline import CreatePipeline\n",
    "\n",
    "# create modules for text (vector) search\n",
    "module_1 = Module(name=\"ocr\")\n",
    "module_2 = Module(name=\"translate\")\n",
    "\n",
    "# create your custom pipeline\n",
    "custom = CreatePipeline(name='sign-translator-pipeline', \n",
    "                        module_chain=[module_1, module_2])\n",
    "\n",
    "# pass the custom object to the krixik operator (note you can also do this by passing its config - we'll do below)\n",
    "pipeline = krixik.load_pipeline(pipeline=custom)\n",
    "\n",
    "# text of review\n",
    "review_text = \"Para los trabajos que estoy haciendo me resultó muy bueno. En una hora carga la batería y dura más de 3 horas de trabajo continuo. Un golazo contar con una segunda batería. Cómodo y con buen torque. Estoy conforme.\"\n",
    "\n",
    "# save to file\n",
    "with open(\"review_data.txt\", \"w\") as text_file:\n",
    "    text_file.write(review_text)\n",
    "\n",
    "# define a test file in your input_files directory\n",
    "test_file = \"review_data.txt\"\n",
    "pipeline.test_input(local_file_path = input_directory + \"/\" + test_file)"
   ]
  }
 ],
 "metadata": {
  "kernelspec": {
   "display_name": "venv",
   "language": "python",
   "name": "python3"
  },
  "language_info": {
   "codemirror_mode": {
    "name": "ipython",
    "version": 3
   },
   "file_extension": ".py",
   "mimetype": "text/x-python",
   "name": "python",
   "nbconvert_exporter": "python",
   "pygments_lexer": "ipython3",
   "version": "3.10.13"
  }
 },
 "nbformat": 4,
 "nbformat_minor": 2
}
